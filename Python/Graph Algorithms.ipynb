{
 "cells": [
  {
   "cell_type": "code",
   "execution_count": 27,
   "metadata": {},
   "outputs": [],
   "source": [
    "import networkx as nx\n",
    "import matplotlib.pyplot as plt\n",
    "import numpy as np\n",
    "import sys\n",
    "import copy\n",
    "\n",
    "class Graph:\n",
    "    \n",
    "    def __init__(self, num_nodes, num_edges=None):\n",
    "        self.num_nodes = num_nodes\n",
    "        self.num_edges = num_edges\n",
    "        \n",
    "        self.adj_list = [[] for _ in range(num_nodes+1)]\n",
    "        self.adj_matrix = [[0 for _ in range(num_nodes+1)] for _ in range(num_nodes+1)]\n",
    "        \n",
    "        self.adj_matrix_index_modified = False\n",
    "        self.adj_list_index_modified = False\n",
    "\n",
    "        \n",
    "    def make_graph_unweighted(self):\n",
    "        for _ in range(self.num_edges):\n",
    "            x, y = map(int, input().split())\n",
    "            \n",
    "            # Scanning adjaceny list\n",
    "            self.adj_list[x].append(y)\n",
    "            self.adj_list[y].append(x)\n",
    "            \n",
    "            #Scanning adjaceny matrix\n",
    "            self.adj_matrix[x][y] = 1\n",
    "            self.adj_matrix[y][x] = 1\n",
    "        \n",
    "        # Uncomment the next lines, if you want to remove the starting element from adjaceny list.\n",
    "        # adj_list.pop(0)\n",
    "        # self.adj_list_modified = True\n",
    "        \n",
    "        # Uncomment the next lines, if you want to remove the starting element from adjaceny matrix.\n",
    "        # self.adj_matrix = np.delete(self.adj_matrix, 0, 0)\n",
    "        # self.adj_matrix = np.delete(self.adj_matrix, 0, 1)\n",
    "        # self.adj_matrix_modified = True\n",
    "    \n",
    "        \n",
    "    def make_graph_weighted(self, graph=None, index_modified = True):\n",
    "        self.adj_matrix_index_modified = index_modified\n",
    "        if graph != None:\n",
    "            self.adj_matrix = graph\n",
    "        \n",
    "        for i in range(num_nodes):\n",
    "            for j in range(num_nodes):\n",
    "                if self.adj_matrix[i][j] > 0:\n",
    "                    self.adj_list[i].append((j, self.adj_matrix[i][j]))\n",
    "            \n",
    "    def bfs(self, start):\n",
    "        self.level = [0 for _ in range(num_nodes)]\n",
    "        visited = [False for _ in range(num_nodes)]\n",
    "        visited[start] = True\n",
    "        stack = [start]\n",
    "        while(len(stack) != 0):\n",
    "            node = stack.pop(0)\n",
    "            \n",
    "            if func != None:\n",
    "                pass\n",
    "#                do something...\n",
    "            \n",
    "            for i in self.adj_list[node]:\n",
    "                if visited[i[0]]:\n",
    "                    continue\n",
    "                self.level[i[0]] = self.level[node] + 1\n",
    "                stack.append(i[0])\n",
    "                visited[i[0]] = True\n",
    "                \n",
    "                    \n",
    "    def dfs(self, start, dfs_type = 0, func = None):\n",
    "        visited = [False for _ in range(num_nodes)]\n",
    "        \n",
    "        if dfs_type == 0:\n",
    "            out = self.dfs_recursive(start, visited, func)\n",
    "        else:\n",
    "            out = self.dfs_iterative(start, visited, func)\n",
    "        \n",
    "        return out\n",
    "    \n",
    "    def dfs_recursive(self, node, visited, func):\n",
    "        if func != None:\n",
    "            pass\n",
    "#             do something...\n",
    "            \n",
    "        visited[node] = True\n",
    "        for i in self.adj_list[node]:\n",
    "            if visited[i[0]]:\n",
    "                continue\n",
    "            self.dfs_recursive(i[0], visited, func)\n",
    "        \n",
    "    def dfs_iterative(self, node, visited, func):\n",
    "        visited = [False for _ in range(num_nodes)]\n",
    "        visited[node] = True\n",
    "        stack = [node]\n",
    "        loop = False\n",
    "        while(len(stack) != 0):\n",
    "            node = stack.pop(-1)\n",
    "            \n",
    "            if func != None:\n",
    "                # Some functionality given...\n",
    "                if loop:\n",
    "                    return True\n",
    "            \n",
    "            for i in self.adj_list[node]:\n",
    "                if visited[i[0]]:\n",
    "                    continue\n",
    "                stack.append(i[0])\n",
    "                visited[i[0]] = True\n",
    "        \n",
    "    def find_minimum_cost_dijkstra(self, node_relaxed, distance, num_nodes):\n",
    "        min_cost_node_index = None\n",
    "        min_distance = sys.maxsize\n",
    "        \n",
    "        for n in range(num_nodes):\n",
    "            if distance[n] < min_distance and node_relaxed[n] == False:\n",
    "                min_distance = distance[n]\n",
    "                min_cost_node_index = n\n",
    " \n",
    "        return min_cost_node_index\n",
    "        \n",
    "    \n",
    "    def dijkstra(self, start_node):\n",
    "        graph = copy.deepcopy(self.adj_matrix)\n",
    "        num_nodes = self.num_nodes\n",
    "        \n",
    "        if self.adj_matrix_index_modified == False:\n",
    "            graph = np.delete(graph, 0, 0)\n",
    "            graph = np.delete(graph, 0, 1)\n",
    "            num_nodes -= 1\n",
    "        \n",
    "        node_relaxed = [False for _ in range(num_nodes)]\n",
    "        distance_from_start = [sys.maxsize]*(num_nodes)\n",
    "        distance_from_start[start_node] = 0\n",
    "        \n",
    "        for _ in range(num_nodes):\n",
    "            next_node = self.find_minimum_cost_dijkstra(node_relaxed, distance_from_start, num_nodes)\n",
    "            node_relaxed[next_node] = True\n",
    "            \n",
    "            for vertex in range(num_nodes):\n",
    "                if graph[next_node][vertex] > 0 and node_relaxed[vertex] == False:\n",
    "                    if distance_from_start[vertex] > distance_from_start[next_node] + graph[next_node][vertex]:\n",
    "                    \n",
    "                        distance_from_start[vertex] = distance_from_start[next_node] + graph[next_node][vertex]\n",
    "         \n",
    "        print(\"Vertex \\tDistance from Source\")\n",
    "        for node in range(num_nodes): \n",
    "            print(node+1, \"\\t\", distance_from_start[node])\n",
    "            \n",
    "        \n",
    "    def hamiltonian_cycle(self, k = 1, x = [1]+[0 for i in range(self.num_nodes-2)]):\n",
    "        while(True):\n",
    "            x[k] = hamiltonian_cycle_util(k, x)\n",
    "            if x[k] == 0:\n",
    "                return\n",
    "            \n",
    "            if k == self.num_nodes-1:\n",
    "                print(x)\n",
    "            else:\n",
    "                hamiltonian_cycle(k+1, x)\n",
    "                \n",
    "            \n",
    "    def hamiltonian_cycle_util(self, k, x):\n",
    "        while(True):\n",
    "            x[k] = x[k+1]%(n+1)\n",
    "            if x[k] == 0:\n",
    "                return\n",
    "            \n",
    "            if self.matrix[x[k-1]][x[k]] != 0:\n",
    "                for j in range(0, k):\n",
    "                    if x[j] == x[k]:\n",
    "                        break\n",
    "                    \n",
    "                        \n",
    "            \n",
    "            \n",
    "    \n",
    "#     def minimum_spanning_tree_kruskal():\n",
    "#         spanning_tree_edges = []\n",
    "#         sorted_edges_weights = []\n",
    "#         for i in range(self.num_nodes):\n",
    "#             for j in range(self.num_nodes):\n",
    "#                 if adj_matrix[i][j] != 0:\n",
    "#                     sorted_edges_weights.append((i, j, adj_matrix[i][j]))\n",
    "#         sorted_edges_weights = sorted(sorted_edges_weights,key=lambda item: item[2])\n",
    "        \n",
    "#         itr = 0\n",
    "#         while(len(spanning_tree_edges) < self.num_nodes):\n",
    "#             if \n",
    "#             spanning_tree_edges.append(sorted_edges_weight[itr])\n",
    "        \n",
    "        \n",
    "    def show(self):\n",
    "        temp = np.array(self.adj_matrix)\n",
    "        if self.adj_matrix_index_modified == False:\n",
    "            temp = np.delete(temp, 0, 0)\n",
    "            temp = np.delete(temp, 0, 1)\n",
    "        \n",
    "        G = nx.from_numpy_matrix(temp)\n",
    "        nx.draw(G, with_labels= False)\n"
   ]
  },
  {
   "cell_type": "code",
   "execution_count": 3,
   "metadata": {},
   "outputs": [
    {
     "ename": "NameError",
     "evalue": "name 'num_nodes' is not defined",
     "output_type": "error",
     "traceback": [
      "\u001b[0;31m---------------------------------------------------------------------------\u001b[0m",
      "\u001b[0;31mNameError\u001b[0m                                 Traceback (most recent call last)",
      "\u001b[0;32m<ipython-input-3-c7ed17d50e16>\u001b[0m in \u001b[0;36m<module>\u001b[0;34m\u001b[0m\n\u001b[1;32m     10\u001b[0m                                 \u001b[0;34m[\u001b[0m\u001b[0;36m0\u001b[0m\u001b[0;34m,\u001b[0m \u001b[0;36m0\u001b[0m\u001b[0;34m,\u001b[0m \u001b[0;36m0\u001b[0m\u001b[0;34m,\u001b[0m \u001b[0;36m0\u001b[0m\u001b[0;34m,\u001b[0m \u001b[0;36m0\u001b[0m\u001b[0;34m,\u001b[0m \u001b[0;36m2\u001b[0m\u001b[0;34m,\u001b[0m \u001b[0;36m0\u001b[0m\u001b[0;34m,\u001b[0m \u001b[0;36m1\u001b[0m\u001b[0;34m,\u001b[0m \u001b[0;36m6\u001b[0m\u001b[0;34m]\u001b[0m\u001b[0;34m,\u001b[0m\u001b[0;34m\u001b[0m\u001b[0;34m\u001b[0m\u001b[0m\n\u001b[1;32m     11\u001b[0m                                 \u001b[0;34m[\u001b[0m\u001b[0;36m8\u001b[0m\u001b[0;34m,\u001b[0m \u001b[0;36m11\u001b[0m\u001b[0;34m,\u001b[0m \u001b[0;36m0\u001b[0m\u001b[0;34m,\u001b[0m \u001b[0;36m0\u001b[0m\u001b[0;34m,\u001b[0m \u001b[0;36m0\u001b[0m\u001b[0;34m,\u001b[0m \u001b[0;36m0\u001b[0m\u001b[0;34m,\u001b[0m \u001b[0;36m1\u001b[0m\u001b[0;34m,\u001b[0m \u001b[0;36m0\u001b[0m\u001b[0;34m,\u001b[0m \u001b[0;36m7\u001b[0m\u001b[0;34m]\u001b[0m\u001b[0;34m,\u001b[0m\u001b[0;34m\u001b[0m\u001b[0;34m\u001b[0m\u001b[0m\n\u001b[0;32m---> 12\u001b[0;31m                                 \u001b[0;34m[\u001b[0m\u001b[0;36m0\u001b[0m\u001b[0;34m,\u001b[0m \u001b[0;36m0\u001b[0m\u001b[0;34m,\u001b[0m \u001b[0;36m2\u001b[0m\u001b[0;34m,\u001b[0m \u001b[0;36m0\u001b[0m\u001b[0;34m,\u001b[0m \u001b[0;36m0\u001b[0m\u001b[0;34m,\u001b[0m \u001b[0;36m0\u001b[0m\u001b[0;34m,\u001b[0m \u001b[0;36m6\u001b[0m\u001b[0;34m,\u001b[0m \u001b[0;36m7\u001b[0m\u001b[0;34m,\u001b[0m \u001b[0;36m0\u001b[0m\u001b[0;34m]\u001b[0m\u001b[0;34m\u001b[0m\u001b[0;34m\u001b[0m\u001b[0m\n\u001b[0m\u001b[1;32m     13\u001b[0m                                ])\n",
      "\u001b[0;32m<ipython-input-2-318898b1a057>\u001b[0m in \u001b[0;36mmake_graph_weighted\u001b[0;34m(self, graph, index_modified)\u001b[0m\n\u001b[1;32m     45\u001b[0m             \u001b[0mself\u001b[0m\u001b[0;34m.\u001b[0m\u001b[0madj_matrix\u001b[0m \u001b[0;34m=\u001b[0m \u001b[0mgraph\u001b[0m\u001b[0;34m\u001b[0m\u001b[0;34m\u001b[0m\u001b[0m\n\u001b[1;32m     46\u001b[0m \u001b[0;34m\u001b[0m\u001b[0m\n\u001b[0;32m---> 47\u001b[0;31m         \u001b[0;32mfor\u001b[0m \u001b[0mi\u001b[0m \u001b[0;32min\u001b[0m \u001b[0mrange\u001b[0m\u001b[0;34m(\u001b[0m\u001b[0mnum_nodes\u001b[0m\u001b[0;34m)\u001b[0m\u001b[0;34m:\u001b[0m\u001b[0;34m\u001b[0m\u001b[0;34m\u001b[0m\u001b[0m\n\u001b[0m\u001b[1;32m     48\u001b[0m             \u001b[0;32mfor\u001b[0m \u001b[0mj\u001b[0m \u001b[0;32min\u001b[0m \u001b[0mrange\u001b[0m\u001b[0;34m(\u001b[0m\u001b[0mnum_nodes\u001b[0m\u001b[0;34m)\u001b[0m\u001b[0;34m:\u001b[0m\u001b[0;34m\u001b[0m\u001b[0;34m\u001b[0m\u001b[0m\n\u001b[1;32m     49\u001b[0m                 \u001b[0;32mif\u001b[0m \u001b[0mself\u001b[0m\u001b[0;34m.\u001b[0m\u001b[0madj_matrix\u001b[0m\u001b[0;34m[\u001b[0m\u001b[0mi\u001b[0m\u001b[0;34m]\u001b[0m\u001b[0;34m[\u001b[0m\u001b[0mj\u001b[0m\u001b[0;34m]\u001b[0m \u001b[0;34m>\u001b[0m \u001b[0;36m0\u001b[0m\u001b[0;34m:\u001b[0m\u001b[0;34m\u001b[0m\u001b[0;34m\u001b[0m\u001b[0m\n",
      "\u001b[0;31mNameError\u001b[0m: name 'num_nodes' is not defined"
     ]
    }
   ],
   "source": [
    "nodes = 9\n",
    "edges = 0\n",
    "g1 = Graph(9, edges)\n",
    "g1.make_graph_weighted(graph = [[0, 4, 0, 0, 0, 0, 0, 8, 0], \n",
    "                                [4, 0, 8, 0, 0, 0, 0, 11, 0], \n",
    "                                [0, 8, 0, 7, 0, 4, 0, 0, 2], \n",
    "                                [0, 0, 7, 0, 9, 14, 0, 0, 0], \n",
    "                                [0, 0, 0, 9, 0, 10, 0, 0, 0], \n",
    "                                [0, 0, 4, 14, 10, 0, 2, 0, 0], \n",
    "                                [0, 0, 0, 0, 0, 2, 0, 1, 6], \n",
    "                                [8, 11, 0, 0, 0, 0, 1, 0, 7], \n",
    "                                [0, 0, 2, 0, 0, 0, 6, 7, 0]\n",
    "                               ])"
   ]
  },
  {
   "cell_type": "code",
   "execution_count": 9,
   "metadata": {},
   "outputs": [
    {
     "name": "stdout",
     "output_type": "stream",
     "text": [
      "1 2\n",
      "1 5\n",
      "2 3\n",
      "2 4\n",
      "2 5\n",
      "4 3\n",
      "5 4\n"
     ]
    }
   ],
   "source": [
    "g2 = Graph(num_nodes = 5, num_edges = 7)\n",
    "g2.make_graph_unweighted()"
   ]
  },
  {
   "cell_type": "code",
   "execution_count": 23,
   "metadata": {},
   "outputs": [
    {
     "data": {
      "text/plain": [
       "[(2, 1), (5, 1)]"
      ]
     },
     "execution_count": 23,
     "metadata": {},
     "output_type": "execute_result"
    }
   ],
   "source": [
    "g2.adj_list[1]"
   ]
  },
  {
   "cell_type": "code",
   "execution_count": 28,
   "metadata": {},
   "outputs": [
    {
     "data": {
      "image/png": "[encoded data removed]",
      "text/plain": [
       "<Figure size 432x288 with 1 Axes>"
      ]
     },
     "metadata": {},
     "output_type": "display_data"
    }
   ],
   "source": [
    "g2.show()"
   ]
  },
  {
   "cell_type": "code",
   "execution_count": 36,
   "metadata": {},
   "outputs": [
    {
     "data": {
      "text/plain": [
       "1"
      ]
     },
     "execution_count": 36,
     "metadata": {},
     "output_type": "execute_result"
    }
   ],
   "source": [
    "g2.adj_matrix[1][5]"
   ]
  },
  {
   "cell_type": "code",
   "execution_count": 33,
   "metadata": {},
   "outputs": [],
   "source": [
    "def abc(a = [5] + [i for i in range(5)]):\n",
    "    print(a)"
   ]
  },
  {
   "cell_type": "code",
   "execution_count": 35,
   "metadata": {},
   "outputs": [
    {
     "name": "stdout",
     "output_type": "stream",
     "text": [
      "[5, 0, 1, 2, 3, 4]\n"
     ]
    }
   ],
   "source": [
    "abc()"
   ]
  },
  {
   "cell_type": "code",
   "execution_count": null,
   "metadata": {},
   "outputs": [],
   "source": []
  }
 ],
 "metadata": {
  "kernelspec": {
   "display_name": "Python 3",
   "language": "python",
   "name": "python3"
  },
  "language_info": {
   "codemirror_mode": {
    "name": "ipython",
    "version": 3
   },
   "file_extension": ".py",
   "mimetype": "text/x-python",
   "name": "python",
   "nbconvert_exporter": "python",
   "pygments_lexer": "ipython3",
   "version": "3.7.3"
  }
 },
 "nbformat": 4,
 "nbformat_minor": 2
}
