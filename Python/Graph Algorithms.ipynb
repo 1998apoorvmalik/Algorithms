{
 "cells": [
  {
   "cell_type": "code",
   "execution_count": 281,
   "metadata": {},
   "outputs": [],
   "source": [
    "import networkx as nx\n",
    "import matplotlib.pyplot as plt\n",
    "import numpy as np\n",
    "import copy\n",
    "\n",
    "class Graph:\n",
    "    \n",
    "    def __init__(self, num_nodes, num_edges=None):\n",
    "        self.num_nodes = num_nodes\n",
    "        self.num_edges = num_edges\n",
    "        \n",
    "        self.adj_list = [[] for _ in range(num_nodes+1)]\n",
    "        self.adj_matrix = [[0 for _ in range(num_nodes+1)] for _ in range(num_nodes+1)]\n",
    "        \n",
    "        self.adj_matrix_index_modified = False\n",
    "        self.adj_list_index_modified = False\n",
    "        \n",
    "\n",
    "        \n",
    "    def make_graph_unweighted(self):\n",
    "        for _ in range(edges):\n",
    "            x, y = map(int, input().split())\n",
    "            \n",
    "            # Scanning adjaceny list\n",
    "            self.adj_list[x].append(y)\n",
    "            self.adj_list[y].append(x)\n",
    "            \n",
    "            #Scanning adjaceny matrix\n",
    "            self.adj_matrix[x][y] = 1\n",
    "            self.adj_matrix[y][x] = 1\n",
    "        \n",
    "        # Uncomment the next lines, if you want to remove the starting element from adjaceny list.\n",
    "        # adj_list.pop(0)\n",
    "        # self.adj_list_modified = True\n",
    "        \n",
    "        # Uncomment the next lines, if you want to remove the starting element from adjaceny matrix.\n",
    "        # self.adj_matrix = np.delete(self.adj_matrix, 0, 0)\n",
    "        # self.adj_matrix = np.delete(self.adj_matrix, 0, 1)\n",
    "        # self.adj_matrix_modified = True\n",
    "        \n",
    "    def make_graph_weighted(self, graph=None, index_modified = True):\n",
    "        self.adj_matrix_index_modified = index_modified\n",
    "        if graph != None:\n",
    "            self.adj_matrix = graph\n",
    "        \n",
    "        \n",
    "    def find_minimum_cost_dijkstra(self, node_relaxed, distance, num_nodes):\n",
    "        min_cost_node_index = None\n",
    "        min_distance = sys.maxsize\n",
    "        \n",
    "        for n in range(num_nodes):\n",
    "            if distance[n] < min_distance and node_relaxed[n] == False:\n",
    "                min_distance = distance[n]\n",
    "                min_cost_node_index = n\n",
    " \n",
    "        return min_cost_node_index\n",
    "        \n",
    "    \n",
    "    def dijkstra(self, start_node):\n",
    "        graph = copy.deepcopy(self.adj_matrix)\n",
    "        num_nodes = self.num_nodes\n",
    "        \n",
    "        if self.adj_matrix_index_modified == False:\n",
    "            graph = np.delete(graph, 0, 0)\n",
    "            graph = np.delete(graph, 0, 1)\n",
    "            num_nodes -= 1\n",
    "        \n",
    "        node_relaxed = [False for _ in range(num_nodes)]\n",
    "        distance_from_start = [sys.maxsize]*(num_nodes)\n",
    "        distance_from_start[start_node] = 0\n",
    "        \n",
    "        for _ in range(num_nodes):\n",
    "            next_node = self.find_minimum_cost_dijkstra(node_relaxed, distance_from_start, num_nodes)\n",
    "            node_relaxed[next_node] = True\n",
    "            \n",
    "            for vertex in range(num_nodes):\n",
    "                if graph[next_node][vertex] > 0 and node_relaxed[vertex] == False:\n",
    "                    if distance_from_start[vertex] > distance_from_start[next_node] + graph[next_node][vertex]:\n",
    "                    \n",
    "                        distance_from_start[vertex] = distance_from_start[next_node] + graph[next_node][vertex]\n",
    "         \n",
    "        print(\"Vertex \\tDistance from Source\")\n",
    "        for node in range(num_nodes): \n",
    "            print(node+1, \"\\t\", distance_from_start[node]) \n",
    "        \n",
    "        \n",
    "    def show(self):\n",
    "        temp = np.array(self.adj_matrix)\n",
    "        if self.adj_matrix_index_modified == False:\n",
    "            temp = np.delete(temp, 0, 0)\n",
    "            temp = np.delete(temp, 0, 1)\n",
    "        \n",
    "        G = nx.from_numpy_matrix(temp)\n",
    "        nx.draw(G, with_labels=True)\n"
   ]
  },
  {
   "cell_type": "code",
   "execution_count": 282,
   "metadata": {},
   "outputs": [],
   "source": [
    "nodes = int(input())\n",
    "edges = int(input())\n",
    "g1 = Graph(9, edges)\n",
    "g1.make_graph_weighted(graph = [[0, 4, 0, 0, 0, 0, 0, 8, 0], \n",
    "                                [4, 0, 8, 0, 0, 0, 0, 11, 0], \n",
    "                                [0, 8, 0, 7, 0, 4, 0, 0, 2], \n",
    "                                [0, 0, 7, 0, 9, 14, 0, 0, 0], \n",
    "                                [0, 0, 0, 9, 0, 10, 0, 0, 0], \n",
    "                                [0, 0, 4, 14, 10, 0, 2, 0, 0], \n",
    "                                [0, 0, 0, 0, 0, 2, 0, 1, 6], \n",
    "                                [8, 11, 0, 0, 0, 0, 1, 0, 7], \n",
    "                                [0, 0, 2, 0, 0, 0, 6, 7, 0]\n",
    "                               ])"
   ]
  },
  {
   "cell_type": "code",
   "execution_count": 283,
   "metadata": {},
   "outputs": [
    {
     "data": {
      "image/png": "[encoded data removed]",
      "text/plain": [
       "<Figure size 432x288 with 1 Axes>"
      ]
     },
     "metadata": {},
     "output_type": "display_data"
    }
   ],
   "source": [
    "g1.show()"
   ]
  },
  {
   "cell_type": "code",
   "execution_count": 284,
   "metadata": {},
   "outputs": [
    {
     "name": "stdout",
     "output_type": "stream",
     "text": [
      "Vertex \tDistance from Source\n",
      "1 \t 0\n",
      "2 \t 4\n",
      "3 \t 12\n",
      "4 \t 19\n",
      "5 \t 21\n",
      "6 \t 11\n",
      "7 \t 9\n",
      "8 \t 8\n",
      "9 \t 14\n"
     ]
    }
   ],
   "source": [
    "g1.dijkstra(0)"
   ]
  },
  {
   "cell_type": "code",
   "execution_count": null,
   "metadata": {},
   "outputs": [],
   "source": []
  }
 ],
 "metadata": {
  "kernelspec": {
   "display_name": "Python 3",
   "language": "python",
   "name": "python3"
  },
  "language_info": {
   "codemirror_mode": {
    "name": "ipython",
    "version": 3
   },
   "file_extension": ".py",
   "mimetype": "text/x-python",
   "name": "python",
   "nbconvert_exporter": "python",
   "pygments_lexer": "ipython3",
   "version": "3.7.1"
  }
 },
 "nbformat": 4,
 "nbformat_minor": 2
}
