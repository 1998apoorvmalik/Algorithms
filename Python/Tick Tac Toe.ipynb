{
 "cells": [
  {
   "cell_type": "code",
   "execution_count": 138,
   "metadata": {},
   "outputs": [],
   "source": [
    "# Created by: Apoorv Malik\n",
    "import copy\n",
    "class TickTackToe:\n",
    "    \n",
    "    def __init__(self):\n",
    "        self.board_size = 3\n",
    "        self.reset_board()\n",
    "#         self.play_game()\n",
    "        \n",
    "        \n",
    "    def play_game(self, turn = 1):\n",
    "        while(self.ended == False):\n",
    "            # Player 1 turn:\n",
    "            if turn == 1:\n",
    "                print(\"'x' Turn:\")\n",
    "                x, y = input().split()\n",
    "                if(self.make_move_x(int(x)-1, int(y)-1) == False):\n",
    "                    print(\"Invalid move, try again\\n\")\n",
    "                    return self.play_game(1)\n",
    "                self.check_status_util()\n",
    "                turn = 2\n",
    "            \n",
    "            if self.ended:\n",
    "                return\n",
    "            \n",
    "            # Player 2 turn:\n",
    "            if turn == 2:\n",
    "                print(\"'o' Turn:\")\n",
    "                x, y = input().split()\n",
    "                if(self.make_move_o(int(x)-1, int(y)-1) == False):\n",
    "                    print(\"Invalid move, try again\\n\")\n",
    "                    return self.play_game(2)\n",
    "                self.check_status_util()\n",
    "                turn = 1\n",
    "            \n",
    "            \n",
    "    def check_status_util(self, board = None):\n",
    "        if board != None:\n",
    "            self.board = copy.deepcopy(board)\n",
    "            \n",
    "        status = self.check_status()\n",
    "#         self.print_board()\n",
    "        if status != None:\n",
    "#             print(\"Game has ended:\")\n",
    "            self.ended = True\n",
    "            message = self.result(status)\n",
    "#             print(\"\\t\" + message)\n",
    "\n",
    "        \n",
    "        \n",
    "    def check_status(self):\n",
    "        count = 0\n",
    "        for i in range(self.board_size):\n",
    "            for j in range(self.board_size):\n",
    "                if self.board[i][j] == \" \":\n",
    "                    count += 1\n",
    "        \n",
    "        out = None\n",
    "        \n",
    "        if count == pow(self.board_size, 2):\n",
    "            out = 'nA'\n",
    "        if self.check_win('x'):\n",
    "            out = 'x'\n",
    "        if self.check_win('o'):\n",
    "            out = 'o'\n",
    "        \n",
    "        return out\n",
    "    \n",
    "    \n",
    "    def check_win(self, ele):\n",
    "        # Checking for vertical matches\n",
    "        for i in range(self.board_size):\n",
    "            count = 0\n",
    "            for j in range(self.board_size):\n",
    "                if self.board[j][i] == ele:\n",
    "                    count += 1\n",
    "            if count == 3:\n",
    "                return True\n",
    "        \n",
    "        # Checking for horizontal matches\n",
    "        for i in range(self.board_size):\n",
    "            count = 0\n",
    "            for j in range(self.board_size):\n",
    "                if self.board[i][j] == ele:\n",
    "                    count += 1\n",
    "            if count == 3:\n",
    "                return True\n",
    "        \n",
    "        #checking for diagonal matches\n",
    "        count = 0\n",
    "        for i in range(self.board_size):\n",
    "            if self.board[i][i] == ele:\n",
    "                count += 1\n",
    "        if count == 3:\n",
    "            return True\n",
    "        \n",
    "        count = 0\n",
    "        for i in range(self.board_size):\n",
    "            if self.board[i][(self.board_size-1)-i] == ele:\n",
    "                count += 1\n",
    "        if count == 3:\n",
    "            return True\n",
    "        \n",
    "        # No matches\n",
    "        return False\n",
    "                    \n",
    "        \n",
    "    def reset_board(self):\n",
    "        self.ended = False\n",
    "        self.x_won = False\n",
    "        self.o_won = False\n",
    "        self.tied = False\n",
    "        self.board = [[' ' for i in range(self.board_size)] for i in range(self.board_size)]\n",
    "    \n",
    "\n",
    "\n",
    "    def is_move_valid(self, x, y, board):\n",
    "        return (x>-1 and y>-1 and x<self.board_size and y<self.board_size and board[x][y] == ' ')\n",
    "\n",
    "\n",
    "    def make_move_x(self, x, y):\n",
    "        if self.is_move_valid(x, y, self.board):\n",
    "            self.board[x][y] = 'x'\n",
    "            return True\n",
    "        else:\n",
    "            return False\n",
    "\n",
    "\n",
    "    def make_move_o(self, x, y):\n",
    "        if self.is_move_valid(x, y, self.board):\n",
    "            self.board[x][y] = 'o'\n",
    "            return True\n",
    "        else:\n",
    "            return False\n",
    "    \n",
    "    \n",
    "    def result(self, message):\n",
    "        out = str()\n",
    "        if message == 'nA':\n",
    "            self.tied = True\n",
    "            out = \"Game Tied...\"\n",
    "        elif message == 'x':\n",
    "            self.x_won = True\n",
    "            out = \"'x' Wins!\"\n",
    "        else:\n",
    "            self.o_won = True\n",
    "            out = \"'o' Wins!\"\n",
    "        return out\n",
    "        \n",
    "        \n",
    "    def print_board(self, board = None):\n",
    "        if board != None:\n",
    "            temp = board\n",
    "        else:\n",
    "            temp = self.board\n",
    "            \n",
    "        for i in temp:\n",
    "            print(i)\n",
    "        print(\"\\n\")\n",
    "    \n",
    "    \n",
    "    #Writing an AI agent to play with the human.\n",
    "    \n",
    "    def generate_children(self, player, board):\n",
    "        children = []\n",
    "        for i in range(self.board_size):\n",
    "            for j in range(self.board_size):\n",
    "                new_board = copy.deepcopy(board)\n",
    "                if self.is_move_valid(i, j, new_board):\n",
    "                    new_board[i][j] = player\n",
    "                    children.append(new_board)\n",
    "        return children\n",
    "    \n",
    "    def AI_controller(self):\n",
    "        children = self.generate_children('o', self.board)\n",
    "        best_val = -1e5\n",
    "        best_move = None\n",
    "        for child in children:\n",
    "            val = self.minmax(child, False)\n",
    "            print(val)\n",
    "            self.print_board(child)\n",
    "            self.reset_board()\n",
    "            if val > best_val:\n",
    "                best_val = val\n",
    "                best_move = child\n",
    "        \n",
    "        self.board = copy.deepcopy(best_move)\n",
    "        \n",
    "    \n",
    "    def minmax(self, board, maximizingPlayer):\n",
    "        self.check_status_util(board)\n",
    "        \n",
    "        if self.ended == True:\n",
    "            if self.tied:\n",
    "                return 0\n",
    "            elif self.o_won:\n",
    "                return 10\n",
    "            else:\n",
    "                return -10\n",
    "            \n",
    "        if maximizingPlayer:\n",
    "            maxVal = -1e5\n",
    "            for child in self.generate_children('o', board):\n",
    "                val = self.minmax(child, False)\n",
    "                maxVal = max(maxVal, val)\n",
    "            return maxVal\n",
    "        \n",
    "        else:\n",
    "            minVal = 1e5\n",
    "            for child in self.generate_children('x', board):\n",
    "                val = self.minmax(child, True)\n",
    "                minVal = min(minVal, val)\n",
    "            return minVal"
   ]
  },
  {
   "cell_type": "code",
   "execution_count": 139,
   "metadata": {},
   "outputs": [],
   "source": [
    "game = TickTackToe()"
   ]
  },
  {
   "cell_type": "code",
   "execution_count": 140,
   "metadata": {},
   "outputs": [
    {
     "data": {
      "text/plain": [
       "True"
      ]
     },
     "execution_count": 140,
     "metadata": {},
     "output_type": "execute_result"
    }
   ],
   "source": [
    "game.make_move_x(0, 2)"
   ]
  },
  {
   "cell_type": "code",
   "execution_count": 141,
   "metadata": {},
   "outputs": [
    {
     "name": "stdout",
     "output_type": "stream",
     "text": [
      "[' ', ' ', 'x']\n",
      "[' ', ' ', ' ']\n",
      "[' ', ' ', ' ']\n",
      "\n",
      "\n"
     ]
    }
   ],
   "source": [
    "game.print_board()"
   ]
  },
  {
   "cell_type": "code",
   "execution_count": 142,
   "metadata": {},
   "outputs": [
    {
     "name": "stdout",
     "output_type": "stream",
     "text": [
      "10\n",
      "['o', ' ', 'x']\n",
      "[' ', ' ', ' ']\n",
      "[' ', ' ', ' ']\n",
      "\n",
      "\n",
      "-10\n",
      "[' ', 'o', 'x']\n",
      "[' ', ' ', ' ']\n",
      "[' ', ' ', ' ']\n",
      "\n",
      "\n",
      "-10\n",
      "[' ', ' ', 'x']\n",
      "['o', ' ', ' ']\n",
      "[' ', ' ', ' ']\n",
      "\n",
      "\n",
      "10\n",
      "[' ', ' ', 'x']\n",
      "[' ', 'o', ' ']\n",
      "[' ', ' ', ' ']\n",
      "\n",
      "\n",
      "-10\n",
      "[' ', ' ', 'x']\n",
      "[' ', ' ', 'o']\n",
      "[' ', ' ', ' ']\n",
      "\n",
      "\n",
      "10\n",
      "[' ', ' ', 'x']\n",
      "[' ', ' ', ' ']\n",
      "['o', ' ', ' ']\n",
      "\n",
      "\n",
      "10\n",
      "[' ', ' ', 'x']\n",
      "[' ', ' ', ' ']\n",
      "[' ', 'o', ' ']\n",
      "\n",
      "\n",
      "10\n",
      "[' ', ' ', 'x']\n",
      "[' ', ' ', ' ']\n",
      "[' ', ' ', 'o']\n",
      "\n",
      "\n"
     ]
    }
   ],
   "source": [
    "game.AI_controller()"
   ]
  },
  {
   "cell_type": "code",
   "execution_count": 143,
   "metadata": {},
   "outputs": [
    {
     "name": "stdout",
     "output_type": "stream",
     "text": [
      "['o', ' ', 'x']\n",
      "[' ', ' ', ' ']\n",
      "[' ', ' ', ' ']\n",
      "\n",
      "\n"
     ]
    }
   ],
   "source": [
    "game.print_board()"
   ]
  },
  {
   "cell_type": "code",
   "execution_count": 144,
   "metadata": {},
   "outputs": [
    {
     "data": {
      "text/plain": [
       "True"
      ]
     },
     "execution_count": 144,
     "metadata": {},
     "output_type": "execute_result"
    }
   ],
   "source": [
    "game.make_move_x(2, 2)"
   ]
  },
  {
   "cell_type": "code",
   "execution_count": 145,
   "metadata": {},
   "outputs": [
    {
     "name": "stdout",
     "output_type": "stream",
     "text": [
      "['o', ' ', 'x']\n",
      "[' ', ' ', ' ']\n",
      "[' ', ' ', 'x']\n",
      "\n",
      "\n"
     ]
    }
   ],
   "source": [
    "game.print_board()"
   ]
  },
  {
   "cell_type": "code",
   "execution_count": 146,
   "metadata": {},
   "outputs": [
    {
     "name": "stdout",
     "output_type": "stream",
     "text": [
      "-10\n",
      "['o', 'o', 'x']\n",
      "[' ', ' ', ' ']\n",
      "[' ', ' ', 'x']\n",
      "\n",
      "\n",
      "10\n",
      "['o', ' ', 'x']\n",
      "['o', ' ', ' ']\n",
      "[' ', ' ', 'x']\n",
      "\n",
      "\n",
      "-10\n",
      "['o', ' ', 'x']\n",
      "[' ', 'o', ' ']\n",
      "[' ', ' ', 'x']\n",
      "\n",
      "\n",
      "10\n",
      "['o', ' ', 'x']\n",
      "[' ', ' ', 'o']\n",
      "[' ', ' ', 'x']\n",
      "\n",
      "\n",
      "10\n",
      "['o', ' ', 'x']\n",
      "[' ', ' ', ' ']\n",
      "['o', ' ', 'x']\n",
      "\n",
      "\n",
      "10\n",
      "['o', ' ', 'x']\n",
      "[' ', ' ', ' ']\n",
      "[' ', 'o', 'x']\n",
      "\n",
      "\n"
     ]
    }
   ],
   "source": [
    "game.AI_controller()"
   ]
  },
  {
   "cell_type": "code",
   "execution_count": 84,
   "metadata": {},
   "outputs": [
    {
     "name": "stdout",
     "output_type": "stream",
     "text": [
      "['o', ' ', 'x']\n",
      "['o', ' ', ' ']\n",
      "[' ', ' ', 'x']\n",
      "\n",
      "\n"
     ]
    }
   ],
   "source": [
    "game.print_board()"
   ]
  },
  {
   "cell_type": "code",
   "execution_count": 85,
   "metadata": {},
   "outputs": [
    {
     "data": {
      "text/plain": [
       "True"
      ]
     },
     "execution_count": 85,
     "metadata": {},
     "output_type": "execute_result"
    }
   ],
   "source": [
    "game.make_move_x(2, 1)"
   ]
  },
  {
   "cell_type": "code",
   "execution_count": 86,
   "metadata": {},
   "outputs": [
    {
     "name": "stdout",
     "output_type": "stream",
     "text": [
      "['o', ' ', 'x']\n",
      "['o', ' ', ' ']\n",
      "[' ', 'x', 'x']\n",
      "\n",
      "\n"
     ]
    }
   ],
   "source": [
    "game.print_board()"
   ]
  },
  {
   "cell_type": "code",
   "execution_count": 87,
   "metadata": {},
   "outputs": [
    {
     "name": "stdout",
     "output_type": "stream",
     "text": [
      "[['o', 'o', 'x'], ['o', ' ', ' '], [' ', 'x', 'x']] 10\n"
     ]
    }
   ],
   "source": [
    "game.AI_controller()"
   ]
  },
  {
   "cell_type": "code",
   "execution_count": 88,
   "metadata": {},
   "outputs": [
    {
     "name": "stdout",
     "output_type": "stream",
     "text": [
      "['o', 'o', 'x']\n",
      "['o', ' ', ' ']\n",
      "[' ', 'x', 'x']\n",
      "\n",
      "\n"
     ]
    }
   ],
   "source": [
    "game.print_board()"
   ]
  },
  {
   "cell_type": "code",
   "execution_count": null,
   "metadata": {},
   "outputs": [],
   "source": []
  }
 ],
 "metadata": {
  "kernelspec": {
   "display_name": "Python 3",
   "language": "python",
   "name": "python3"
  },
  "language_info": {
   "codemirror_mode": {
    "name": "ipython",
    "version": 3
   },
   "file_extension": ".py",
   "mimetype": "text/x-python",
   "name": "python",
   "nbconvert_exporter": "python",
   "pygments_lexer": "ipython3",
   "version": "3.7.3"
  }
 },
 "nbformat": 4,
 "nbformat_minor": 2
}
